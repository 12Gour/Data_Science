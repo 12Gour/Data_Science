{
 "cells": [
  {
   "cell_type": "markdown",
   "id": "e0850689",
   "metadata": {},
   "source": [
    "# Opening File (Read)"
   ]
  },
  {
   "cell_type": "code",
   "execution_count": 1,
   "id": "059ee0f8",
   "metadata": {},
   "outputs": [
    {
     "name": "stdout",
     "output_type": "stream",
     "text": [
      "Hello everybody! , Gourhari this side \n"
     ]
    }
   ],
   "source": [
    "# File_object = open(\"File_Name\",\"Access_Mode\")\n",
    "\n",
    "fd=open('data.txt','r')      # open the file in read formate\n",
    "print(fd.read())             # read the file\n",
    "fd.close()                   # close the file"
   ]
  },
  {
   "cell_type": "markdown",
   "id": "4368639b",
   "metadata": {},
   "source": [
    " # *Reading data from file corpus*"
   ]
  },
  {
   "cell_type": "code",
   "execution_count": 2,
   "id": "4ef86156",
   "metadata": {},
   "outputs": [],
   "source": [
    "fd=open('covid_text_data.txt','r')\n",
    "txt=fd.read()\n",
    "fd.close()"
   ]
  },
  {
   "cell_type": "code",
   "execution_count": 3,
   "id": "b6c3fc79",
   "metadata": {},
   "outputs": [
    {
     "data": {
      "text/plain": [
       "\"\\n\\n* Coronavirus disease 2019 (COVID-19) is a contagious disease caused by a virus, the severe acute respiratory syndrome coronavirus 2 (SARS-CoV-2). The first known case was identified in Wuhan, China, in December 2019.[7] The disease quickly spread worldwide, resulting in the COVID-19 pandemic. *\\n\\nThe symptoms of COVIDâ€‘19 are variable but often include fever,[8] cough, headache,[9] fatigue, breathing difficulties, loss of smell, and loss of taste.[10][11][12] Symptoms may begin one to fourteen days after exposure to the virus. At least a third of people who are infected do not develop noticeable symptoms.[13] Of those who develop symptoms noticeable enough to be classified as patients, most (81%) develop mild to moderate symptoms (up to mild pneumonia), while 14% develop severe symptoms (dyspnea, hypoxia, or more than 50% lung involvement on imaging), and 5% develop critical symptoms (respiratory failure, shock, or multiorgan dysfunction).[14] Older people are at a higher risk of developing severe symptoms. Some people continue to experience a range of effects (long COVID) for months after recovery, and damage to organs has been observed.[15] Multi-year studies are underway to further investigate the long-term effects of the disease.[15]\\n\\nCOVIDâ€‘19 transmits when people breathe air contaminated by droplets and small airborne particles containing the virus. The risk of breathing these is highest when people are in close proximity, but they can be inhaled over longer distances, particularly indoors. Transmission can also occur if contaminated fluids are splashed or sprayed in the eyes, nose, or mouth, or, more rarely, via contaminated surfaces. People remain contagious for up to 20 days and can spread the virus even if they do not develop symptoms.[16][17]\\n\\nTesting methods for COVID-19 to detect the virus's nucleic acid include real-time reverse transcription polymerase chain reaction (rRTâ€‘PCR),[18][19] transcription-mediated amplification,[18][19][20] and reverse transcription loop-mediated isothermal amplification (RTâ€‘LAMP)[18][19] from a nasopharyngeal swab.[21]\\n\\nSeveral COVID-19 vaccines have been approved and distributed in various countries, which have initiated mass vaccination campaigns. Other preventive measures include physical or social distancing, quarantining, ventilation of indoor spaces, use of face masks or coverings in public, covering coughs and sneezes, hand washing, and keeping unwashed hands away from the face. While work is underway to develop drugs that inhibit the virus, the primary treatment is symptomatic. Management involves the treatment of symptoms through supportive care, isolation, and experimental measures.\\n\\n\""
      ]
     },
     "execution_count": 3,
     "metadata": {},
     "output_type": "execute_result"
    }
   ],
   "source": [
    "txt             # print the data as it is in raw formate"
   ]
  },
  {
   "cell_type": "code",
   "execution_count": 4,
   "id": "a013bd10",
   "metadata": {},
   "outputs": [
    {
     "name": "stdout",
     "output_type": "stream",
     "text": [
      "\n",
      "\n",
      "* Coronavirus disease 2019 (COVID-19) is a contagious disease caused by a virus, the severe acute respiratory syndrome coronavirus 2 (SARS-CoV-2). The first known case was identified in Wuhan, China, in December 2019.[7] The disease quickly spread worldwide, resulting in the COVID-19 pandemic. *\n",
      "\n",
      "The symptoms of COVIDâ€‘19 are variable but often include fever,[8] cough, headache,[9] fatigue, breathing difficulties, loss of smell, and loss of taste.[10][11][12] Symptoms may begin one to fourteen days after exposure to the virus. At least a third of people who are infected do not develop noticeable symptoms.[13] Of those who develop symptoms noticeable enough to be classified as patients, most (81%) develop mild to moderate symptoms (up to mild pneumonia), while 14% develop severe symptoms (dyspnea, hypoxia, or more than 50% lung involvement on imaging), and 5% develop critical symptoms (respiratory failure, shock, or multiorgan dysfunction).[14] Older people are at a higher risk of developing severe symptoms. Some people continue to experience a range of effects (long COVID) for months after recovery, and damage to organs has been observed.[15] Multi-year studies are underway to further investigate the long-term effects of the disease.[15]\n",
      "\n",
      "COVIDâ€‘19 transmits when people breathe air contaminated by droplets and small airborne particles containing the virus. The risk of breathing these is highest when people are in close proximity, but they can be inhaled over longer distances, particularly indoors. Transmission can also occur if contaminated fluids are splashed or sprayed in the eyes, nose, or mouth, or, more rarely, via contaminated surfaces. People remain contagious for up to 20 days and can spread the virus even if they do not develop symptoms.[16][17]\n",
      "\n",
      "Testing methods for COVID-19 to detect the virus's nucleic acid include real-time reverse transcription polymerase chain reaction (rRTâ€‘PCR),[18][19] transcription-mediated amplification,[18][19][20] and reverse transcription loop-mediated isothermal amplification (RTâ€‘LAMP)[18][19] from a nasopharyngeal swab.[21]\n",
      "\n",
      "Several COVID-19 vaccines have been approved and distributed in various countries, which have initiated mass vaccination campaigns. Other preventive measures include physical or social distancing, quarantining, ventilation of indoor spaces, use of face masks or coverings in public, covering coughs and sneezes, hand washing, and keeping unwashed hands away from the face. While work is underway to develop drugs that inhibit the virus, the primary treatment is symptomatic. Management involves the treatment of symptoms through supportive care, isolation, and experimental measures.\n",
      "\n",
      "\n"
     ]
    }
   ],
   "source": [
    "print(txt)"
   ]
  },
  {
   "cell_type": "code",
   "execution_count": 5,
   "id": "a72abe71",
   "metadata": {
    "scrolled": false
   },
   "outputs": [
    {
     "name": "stdout",
     "output_type": "stream",
     "text": [
      "  * Coronavirus disease 2019 (COVID-19) is a contagious disease caused by a virus, the severe acute respiratory syndrome coronavirus 2 (SARS-CoV-2). The first known case was identified in Wuhan, China, in December 2019.[7] The disease quickly spread worldwide, resulting in the COVID-19 pandemic. *  The symptoms of COVIDâ€‘19 are variable but often include fever,[8] cough, headache,[9] fatigue, breathing difficulties, loss of smell, and loss of taste.[10][11][12] Symptoms may begin one to fourteen days after exposure to the virus. At least a third of people who are infected do not develop noticeable symptoms.[13] Of those who develop symptoms noticeable enough to be classified as patients, most (81%) develop mild to moderate symptoms (up to mild pneumonia), while 14% develop severe symptoms (dyspnea, hypoxia, or more than 50% lung involvement on imaging), and 5% develop critical symptoms (respiratory failure, shock, or multiorgan dysfunction).[14] Older people are at a higher risk of developing severe symptoms. Some people continue to experience a range of effects (long COVID) for months after recovery, and damage to organs has been observed.[15] Multi-year studies are underway to further investigate the long-term effects of the disease.[15]  COVIDâ€‘19 transmits when people breathe air contaminated by droplets and small airborne particles containing the virus. The risk of breathing these is highest when people are in close proximity, but they can be inhaled over longer distances, particularly indoors. Transmission can also occur if contaminated fluids are splashed or sprayed in the eyes, nose, or mouth, or, more rarely, via contaminated surfaces. People remain contagious for up to 20 days and can spread the virus even if they do not develop symptoms.[16][17]  Testing methods for COVID-19 to detect the virus's nucleic acid include real-time reverse transcription polymerase chain reaction (rRTâ€‘PCR),[18][19] transcription-mediated amplification,[18][19][20] and reverse transcription loop-mediated isothermal amplification (RTâ€‘LAMP)[18][19] from a nasopharyngeal swab.[21]  Several COVID-19 vaccines have been approved and distributed in various countries, which have initiated mass vaccination campaigns. Other preventive measures include physical or social distancing, quarantining, ventilation of indoor spaces, use of face masks or coverings in public, covering coughs and sneezes, hand washing, and keeping unwashed hands away from the face. While work is underway to develop drugs that inhibit the virus, the primary treatment is symptomatic. Management involves the treatment of symptoms through supportive care, isolation, and experimental measures.  \n"
     ]
    }
   ],
   "source": [
    "txt_1 = (txt.replace('\\n\\n','  '))# replace the \"\\n\\n\" into a space in covid_text_data file \n",
    "print(txt_1)"
   ]
  },
  {
   "cell_type": "markdown",
   "id": "49bce212",
   "metadata": {},
   "source": [
    " # Text processing "
   ]
  },
  {
   "cell_type": "code",
   "execution_count": 6,
   "id": "403be1ae",
   "metadata": {},
   "outputs": [
    {
     "data": {
      "text/plain": [
       "\"\\n\\n* Coronavirus disease 2019 (COVID-19) is a contagious disease caused by a virus, the severe acute respiratory syndrome coronavirus 2 (SARS-CoV-2). The first known case was identified in Wuhan, China, in December 2019.[7] The disease quickly spread worldwide, resulting in the COVID-19 pandemic. *\\n\\nThe symptoms of COVIDâ€‘19 are variable but often include fever,[8] cough, headache,[9] fatigue, breathing difficulties, loss of smell, and loss of taste.[10][11][12] Symptoms may begin one to fourteen days after exposure to the virus. At least a third of people who are infected do not develop noticeable symptoms.[13] Of those who develop symptoms noticeable enough to be classified as patients, most (81%) develop mild to moderate symptoms (up to mild pneumonia), while 14% develop severe symptoms (dyspnea, hypoxia, or more than 50% lung involvement on imaging), and 5% develop critical symptoms (respiratory failure, shock, or multiorgan dysfunction).[14] Older people are at a higher risk of developing severe symptoms. Some people continue to experience a range of effects (long COVID) for months after recovery, and damage to organs has been observed.[15] Multi-year studies are underway to further investigate the long-term effects of the disease.[15]\\n\\nCOVIDâ€‘19 transmits when people breathe air contaminated by droplets and small airborne particles containing the virus. The risk of breathing these is highest when people are in close proximity, but they can be inhaled over longer distances, particularly indoors. Transmission can also occur if contaminated fluids are splashed or sprayed in the eyes, nose, or mouth, or, more rarely, via contaminated surfaces. People remain contagious for up to 20 days and can spread the virus even if they do not develop symptoms.[16][17]\\n\\nTesting methods for COVID-19 to detect the virus's nucleic acid include real-time reverse transcription polymerase chain reaction (rRTâ€‘PCR),[18][19] transcription-mediated amplification,[18][19][20] and reverse transcription loop-mediated isothermal amplification (RTâ€‘LAMP)[18][19] from a nasopharyngeal swab.[21]\\n\\nSeveral COVID-19 vaccines have been approved and distributed in various countries, which have initiated mass vaccination campaigns. Other preventive measures include physical or social distancing, quarantining, ventilation of indoor spaces, use of face masks or coverings in public, covering coughs and sneezes, hand washing, and keeping unwashed hands away from the face. While work is underway to develop drugs that inhibit the virus, the primary treatment is symptomatic. Management involves the treatment of symptoms through supportive care, isolation, and experimental measures.\\n\\n\""
      ]
     },
     "execution_count": 6,
     "metadata": {},
     "output_type": "execute_result"
    }
   ],
   "source": [
    "txt"
   ]
  },
  {
   "cell_type": "code",
   "execution_count": 7,
   "id": "9fd0cbe1",
   "metadata": {},
   "outputs": [
    {
     "data": {
      "text/plain": [
       "7"
      ]
     },
     "execution_count": 7,
     "metadata": {},
     "output_type": "execute_result"
    }
   ],
   "source": [
    "p_1 = txt.split(\"\\n\\n\")   # convert raw data in to discrete paragraph formate\n",
    "len(p_1)"
   ]
  },
  {
   "cell_type": "code",
   "execution_count": 8,
   "id": "6040c458",
   "metadata": {},
   "outputs": [
    {
     "data": {
      "text/plain": [
       "['',\n",
       " '* Coronavirus disease 2019 (COVID-19) is a contagious disease caused by a virus, the severe acute respiratory syndrome coronavirus 2 (SARS-CoV-2). The first known case was identified in Wuhan, China, in December 2019.[7] The disease quickly spread worldwide, resulting in the COVID-19 pandemic. *',\n",
       " 'The symptoms of COVIDâ€‘19 are variable but often include fever,[8] cough, headache,[9] fatigue, breathing difficulties, loss of smell, and loss of taste.[10][11][12] Symptoms may begin one to fourteen days after exposure to the virus. At least a third of people who are infected do not develop noticeable symptoms.[13] Of those who develop symptoms noticeable enough to be classified as patients, most (81%) develop mild to moderate symptoms (up to mild pneumonia), while 14% develop severe symptoms (dyspnea, hypoxia, or more than 50% lung involvement on imaging), and 5% develop critical symptoms (respiratory failure, shock, or multiorgan dysfunction).[14] Older people are at a higher risk of developing severe symptoms. Some people continue to experience a range of effects (long COVID) for months after recovery, and damage to organs has been observed.[15] Multi-year studies are underway to further investigate the long-term effects of the disease.[15]',\n",
       " 'COVIDâ€‘19 transmits when people breathe air contaminated by droplets and small airborne particles containing the virus. The risk of breathing these is highest when people are in close proximity, but they can be inhaled over longer distances, particularly indoors. Transmission can also occur if contaminated fluids are splashed or sprayed in the eyes, nose, or mouth, or, more rarely, via contaminated surfaces. People remain contagious for up to 20 days and can spread the virus even if they do not develop symptoms.[16][17]',\n",
       " \"Testing methods for COVID-19 to detect the virus's nucleic acid include real-time reverse transcription polymerase chain reaction (rRTâ€‘PCR),[18][19] transcription-mediated amplification,[18][19][20] and reverse transcription loop-mediated isothermal amplification (RTâ€‘LAMP)[18][19] from a nasopharyngeal swab.[21]\",\n",
       " 'Several COVID-19 vaccines have been approved and distributed in various countries, which have initiated mass vaccination campaigns. Other preventive measures include physical or social distancing, quarantining, ventilation of indoor spaces, use of face masks or coverings in public, covering coughs and sneezes, hand washing, and keeping unwashed hands away from the face. While work is underway to develop drugs that inhibit the virus, the primary treatment is symptomatic. Management involves the treatment of symptoms through supportive care, isolation, and experimental measures.',\n",
       " '']"
      ]
     },
     "execution_count": 8,
     "metadata": {},
     "output_type": "execute_result"
    }
   ],
   "source": [
    "(p_1)"
   ]
  },
  {
   "cell_type": "code",
   "execution_count": 9,
   "id": "87afffc0",
   "metadata": {},
   "outputs": [
    {
     "data": {
      "text/plain": [
       "list"
      ]
     },
     "execution_count": 9,
     "metadata": {},
     "output_type": "execute_result"
    }
   ],
   "source": [
    "type(p_1)       "
   ]
  },
  {
   "cell_type": "code",
   "execution_count": 10,
   "id": "d76ab7b0",
   "metadata": {},
   "outputs": [
    {
     "data": {
      "text/plain": [
       "''"
      ]
     },
     "execution_count": 10,
     "metadata": {},
     "output_type": "execute_result"
    }
   ],
   "source": [
    "p_1[0]       # first paragraph"
   ]
  },
  {
   "cell_type": "code",
   "execution_count": 11,
   "id": "1a2b8a04",
   "metadata": {},
   "outputs": [
    {
     "data": {
      "text/plain": [
       "'* Coronavirus disease 2019 (COVID-19) is a contagious disease caused by a virus, the severe acute respiratory syndrome coronavirus 2 (SARS-CoV-2). The first known case was identified in Wuhan, China, in December 2019.[7] The disease quickly spread worldwide, resulting in the COVID-19 pandemic. *'"
      ]
     },
     "execution_count": 11,
     "metadata": {},
     "output_type": "execute_result"
    }
   ],
   "source": [
    "p_1[1]      # second paragraph"
   ]
  },
  {
   "cell_type": "code",
   "execution_count": 12,
   "id": "b64e0364",
   "metadata": {},
   "outputs": [
    {
     "data": {
      "text/plain": [
       "'The symptoms of COVIDâ€‘19 are variable but often include fever,[8] cough, headache,[9] fatigue, breathing difficulties, loss of smell, and loss of taste.[10][11][12] Symptoms may begin one to fourteen days after exposure to the virus. At least a third of people who are infected do not develop noticeable symptoms.[13] Of those who develop symptoms noticeable enough to be classified as patients, most (81%) develop mild to moderate symptoms (up to mild pneumonia), while 14% develop severe symptoms (dyspnea, hypoxia, or more than 50% lung involvement on imaging), and 5% develop critical symptoms (respiratory failure, shock, or multiorgan dysfunction).[14] Older people are at a higher risk of developing severe symptoms. Some people continue to experience a range of effects (long COVID) for months after recovery, and damage to organs has been observed.[15] Multi-year studies are underway to further investigate the long-term effects of the disease.[15]'"
      ]
     },
     "execution_count": 12,
     "metadata": {},
     "output_type": "execute_result"
    }
   ],
   "source": [
    "p_1[2]     # third paragraph"
   ]
  },
  {
   "cell_type": "code",
   "execution_count": 13,
   "id": "a9295e48",
   "metadata": {},
   "outputs": [
    {
     "data": {
      "text/plain": [
       "'COVIDâ€‘19 transmits when people breathe air contaminated by droplets and small airborne particles containing the virus. The risk of breathing these is highest when people are in close proximity, but they can be inhaled over longer distances, particularly indoors. Transmission can also occur if contaminated fluids are splashed or sprayed in the eyes, nose, or mouth, or, more rarely, via contaminated surfaces. People remain contagious for up to 20 days and can spread the virus even if they do not develop symptoms.[16][17]'"
      ]
     },
     "execution_count": 13,
     "metadata": {},
     "output_type": "execute_result"
    }
   ],
   "source": [
    "p_1[3]     # forth paragraph"
   ]
  },
  {
   "cell_type": "code",
   "execution_count": 14,
   "id": "8acd8f4c",
   "metadata": {
    "scrolled": true
   },
   "outputs": [
    {
     "data": {
      "text/plain": [
       "\"Testing methods for COVID-19 to detect the virus's nucleic acid include real-time reverse transcription polymerase chain reaction (rRTâ€‘PCR),[18][19] transcription-mediated amplification,[18][19][20] and reverse transcription loop-mediated isothermal amplification (RTâ€‘LAMP)[18][19] from a nasopharyngeal swab.[21]\""
      ]
     },
     "execution_count": 14,
     "metadata": {},
     "output_type": "execute_result"
    }
   ],
   "source": [
    "p_1[4]     # fifth paragraph"
   ]
  },
  {
   "cell_type": "markdown",
   "id": "b671290b",
   "metadata": {},
   "source": [
    "    ..."
   ]
  },
  {
   "cell_type": "code",
   "execution_count": 15,
   "id": "f58c43d8",
   "metadata": {},
   "outputs": [
    {
     "data": {
      "text/plain": [
       "['\\n\\n* Coronavirus disease 2019 (COVID-19) is a contagious disease caused by a virus, the severe acute respiratory syndrome coronavirus 2 (SARS-CoV-2)',\n",
       " ' The first known case was identified in Wuhan, China, in December 2019',\n",
       " '[7] The disease quickly spread worldwide, resulting in the COVID-19 pandemic',\n",
       " ' *\\n\\nThe symptoms of COVIDâ€‘19 are variable but often include fever,[8] cough, headache,[9] fatigue, breathing difficulties, loss of smell, and loss of taste',\n",
       " '[10][11][12] Symptoms may begin one to fourteen days after exposure to the virus',\n",
       " ' At least a third of people who are infected do not develop noticeable symptoms',\n",
       " '[13] Of those who develop symptoms noticeable enough to be classified as patients, most (81%) develop mild to moderate symptoms (up to mild pneumonia), while 14% develop severe symptoms (dyspnea, hypoxia, or more than 50% lung involvement on imaging), and 5% develop critical symptoms (respiratory failure, shock, or multiorgan dysfunction)',\n",
       " '[14] Older people are at a higher risk of developing severe symptoms',\n",
       " ' Some people continue to experience a range of effects (long COVID) for months after recovery, and damage to organs has been observed',\n",
       " '[15] Multi-year studies are underway to further investigate the long-term effects of the disease',\n",
       " '[15]\\n\\nCOVIDâ€‘19 transmits when people breathe air contaminated by droplets and small airborne particles containing the virus',\n",
       " ' The risk of breathing these is highest when people are in close proximity, but they can be inhaled over longer distances, particularly indoors',\n",
       " ' Transmission can also occur if contaminated fluids are splashed or sprayed in the eyes, nose, or mouth, or, more rarely, via contaminated surfaces',\n",
       " ' People remain contagious for up to 20 days and can spread the virus even if they do not develop symptoms',\n",
       " \"[16][17]\\n\\nTesting methods for COVID-19 to detect the virus's nucleic acid include real-time reverse transcription polymerase chain reaction (rRTâ€‘PCR),[18][19] transcription-mediated amplification,[18][19][20] and reverse transcription loop-mediated isothermal amplification (RTâ€‘LAMP)[18][19] from a nasopharyngeal swab\",\n",
       " '[21]\\n\\nSeveral COVID-19 vaccines have been approved and distributed in various countries, which have initiated mass vaccination campaigns',\n",
       " ' Other preventive measures include physical or social distancing, quarantining, ventilation of indoor spaces, use of face masks or coverings in public, covering coughs and sneezes, hand washing, and keeping unwashed hands away from the face',\n",
       " ' While work is underway to develop drugs that inhibit the virus, the primary treatment is symptomatic',\n",
       " ' Management involves the treatment of symptoms through supportive care, isolation, and experimental measures',\n",
       " '\\n\\n']"
      ]
     },
     "execution_count": 15,
     "metadata": {},
     "output_type": "execute_result"
    }
   ],
   "source": [
    "line = txt.split(\".\") \n",
    "(line)                     # line"
   ]
  },
  {
   "cell_type": "code",
   "execution_count": 16,
   "id": "33428ae8",
   "metadata": {},
   "outputs": [
    {
     "data": {
      "text/plain": [
       "20"
      ]
     },
     "execution_count": 16,
     "metadata": {},
     "output_type": "execute_result"
    }
   ],
   "source": [
    "len(line)   # how many lines are there"
   ]
  },
  {
   "cell_type": "code",
   "execution_count": 17,
   "id": "f7fe9850",
   "metadata": {},
   "outputs": [
    {
     "data": {
      "text/plain": [
       "'\\n\\n'"
      ]
     },
     "execution_count": 17,
     "metadata": {},
     "output_type": "execute_result"
    }
   ],
   "source": [
    "line[-1]  "
   ]
  },
  {
   "cell_type": "code",
   "execution_count": 18,
   "id": "5bccfbf2",
   "metadata": {},
   "outputs": [
    {
     "data": {
      "text/plain": [
       "['\\n\\n* Coronavirus disease 2019 (COVID-19) is a contagious disease caused by a virus, the severe acute respiratory syndrome coronavirus 2 (SARS-CoV-2)',\n",
       " ' The first known case was identified in Wuhan, China, in December 2019',\n",
       " '[7] The disease quickly spread worldwide, resulting in the COVID-19 pandemic',\n",
       " ' *\\n\\nThe symptoms of COVIDâ€‘19 are variable but often include fever,[8] cough, headache,[9] fatigue, breathing difficulties, loss of smell, and loss of taste',\n",
       " '[10][11][12] Symptoms may begin one to fourteen days after exposure to the virus',\n",
       " ' At least a third of people who are infected do not develop noticeable symptoms',\n",
       " '[13] Of those who develop symptoms noticeable enough to be classified as patients, most (81%) develop mild to moderate symptoms (up to mild pneumonia), while 14% develop severe symptoms (dyspnea, hypoxia, or more than 50% lung involvement on imaging), and 5% develop critical symptoms (respiratory failure, shock, or multiorgan dysfunction)',\n",
       " '[14] Older people are at a higher risk of developing severe symptoms',\n",
       " ' Some people continue to experience a range of effects (long COVID) for months after recovery, and damage to organs has been observed',\n",
       " '[15] Multi-year studies are underway to further investigate the long-term effects of the disease',\n",
       " '[15]\\n\\nCOVIDâ€‘19 transmits when people breathe air contaminated by droplets and small airborne particles containing the virus',\n",
       " ' The risk of breathing these is highest when people are in close proximity, but they can be inhaled over longer distances, particularly indoors',\n",
       " ' Transmission can also occur if contaminated fluids are splashed or sprayed in the eyes, nose, or mouth, or, more rarely, via contaminated surfaces',\n",
       " ' People remain contagious for up to 20 days and can spread the virus even if they do not develop symptoms',\n",
       " \"[16][17]\\n\\nTesting methods for COVID-19 to detect the virus's nucleic acid include real-time reverse transcription polymerase chain reaction (rRTâ€‘PCR),[18][19] transcription-mediated amplification,[18][19][20] and reverse transcription loop-mediated isothermal amplification (RTâ€‘LAMP)[18][19] from a nasopharyngeal swab\",\n",
       " '[21]\\n\\nSeveral COVID-19 vaccines have been approved and distributed in various countries, which have initiated mass vaccination campaigns',\n",
       " ' Other preventive measures include physical or social distancing, quarantining, ventilation of indoor spaces, use of face masks or coverings in public, covering coughs and sneezes, hand washing, and keeping unwashed hands away from the face',\n",
       " ' While work is underway to develop drugs that inhibit the virus, the primary treatment is symptomatic',\n",
       " ' Management involves the treatment of symptoms through supportive care, isolation, and experimental measures']"
      ]
     },
     "execution_count": 18,
     "metadata": {},
     "output_type": "execute_result"
    }
   ],
   "source": [
    "line[:-1]    # print all lines except last one"
   ]
  },
  {
   "cell_type": "code",
   "execution_count": 19,
   "id": "c2de5bc5",
   "metadata": {},
   "outputs": [
    {
     "data": {
      "text/plain": [
       "['\\n\\n*',\n",
       " 'Coronavirus',\n",
       " 'disease',\n",
       " '2019',\n",
       " '(COVID-19)',\n",
       " 'is',\n",
       " 'a',\n",
       " 'contagious',\n",
       " 'disease',\n",
       " 'caused',\n",
       " 'by',\n",
       " 'a',\n",
       " 'virus,',\n",
       " 'the',\n",
       " 'severe',\n",
       " 'acute',\n",
       " 'respiratory',\n",
       " 'syndrome',\n",
       " 'coronavirus',\n",
       " '2',\n",
       " '(SARS-CoV-2).',\n",
       " 'The',\n",
       " 'first',\n",
       " 'known',\n",
       " 'case',\n",
       " 'was',\n",
       " 'identified',\n",
       " 'in',\n",
       " 'Wuhan,',\n",
       " 'China,',\n",
       " 'in',\n",
       " 'December',\n",
       " '2019.[7]',\n",
       " 'The',\n",
       " 'disease',\n",
       " 'quickly',\n",
       " 'spread',\n",
       " 'worldwide,',\n",
       " 'resulting',\n",
       " 'in',\n",
       " 'the',\n",
       " 'COVID-19',\n",
       " 'pandemic.',\n",
       " '*\\n\\nThe',\n",
       " 'symptoms',\n",
       " 'of',\n",
       " 'COVIDâ€‘19',\n",
       " 'are',\n",
       " 'variable',\n",
       " 'but',\n",
       " 'often',\n",
       " 'include',\n",
       " 'fever,[8]',\n",
       " 'cough,',\n",
       " 'headache,[9]',\n",
       " 'fatigue,',\n",
       " 'breathing',\n",
       " 'difficulties,',\n",
       " 'loss',\n",
       " 'of',\n",
       " 'smell,',\n",
       " 'and',\n",
       " 'loss',\n",
       " 'of',\n",
       " 'taste.[10][11][12]',\n",
       " 'Symptoms',\n",
       " 'may',\n",
       " 'begin',\n",
       " 'one',\n",
       " 'to',\n",
       " 'fourteen',\n",
       " 'days',\n",
       " 'after',\n",
       " 'exposure',\n",
       " 'to',\n",
       " 'the',\n",
       " 'virus.',\n",
       " 'At',\n",
       " 'least',\n",
       " 'a',\n",
       " 'third',\n",
       " 'of',\n",
       " 'people',\n",
       " 'who',\n",
       " 'are',\n",
       " 'infected',\n",
       " 'do',\n",
       " 'not',\n",
       " 'develop',\n",
       " 'noticeable',\n",
       " 'symptoms.[13]',\n",
       " 'Of',\n",
       " 'those',\n",
       " 'who',\n",
       " 'develop',\n",
       " 'symptoms',\n",
       " 'noticeable',\n",
       " 'enough',\n",
       " 'to',\n",
       " 'be',\n",
       " 'classified',\n",
       " 'as',\n",
       " 'patients,',\n",
       " 'most',\n",
       " '(81%)',\n",
       " 'develop',\n",
       " 'mild',\n",
       " 'to',\n",
       " 'moderate',\n",
       " 'symptoms',\n",
       " '(up',\n",
       " 'to',\n",
       " 'mild',\n",
       " 'pneumonia),',\n",
       " 'while',\n",
       " '14%',\n",
       " 'develop',\n",
       " 'severe',\n",
       " 'symptoms',\n",
       " '(dyspnea,',\n",
       " 'hypoxia,',\n",
       " 'or',\n",
       " 'more',\n",
       " 'than',\n",
       " '50%',\n",
       " 'lung',\n",
       " 'involvement',\n",
       " 'on',\n",
       " 'imaging),',\n",
       " 'and',\n",
       " '5%',\n",
       " 'develop',\n",
       " 'critical',\n",
       " 'symptoms',\n",
       " '(respiratory',\n",
       " 'failure,',\n",
       " 'shock,',\n",
       " 'or',\n",
       " 'multiorgan',\n",
       " 'dysfunction).[14]',\n",
       " 'Older',\n",
       " 'people',\n",
       " 'are',\n",
       " 'at',\n",
       " 'a',\n",
       " 'higher',\n",
       " 'risk',\n",
       " 'of',\n",
       " 'developing',\n",
       " 'severe',\n",
       " 'symptoms.',\n",
       " 'Some',\n",
       " 'people',\n",
       " 'continue',\n",
       " 'to',\n",
       " 'experience',\n",
       " 'a',\n",
       " 'range',\n",
       " 'of',\n",
       " 'effects',\n",
       " '(long',\n",
       " 'COVID)',\n",
       " 'for',\n",
       " 'months',\n",
       " 'after',\n",
       " 'recovery,',\n",
       " 'and',\n",
       " 'damage',\n",
       " 'to',\n",
       " 'organs',\n",
       " 'has',\n",
       " 'been',\n",
       " 'observed.[15]',\n",
       " 'Multi-year',\n",
       " 'studies',\n",
       " 'are',\n",
       " 'underway',\n",
       " 'to',\n",
       " 'further',\n",
       " 'investigate',\n",
       " 'the',\n",
       " 'long-term',\n",
       " 'effects',\n",
       " 'of',\n",
       " 'the',\n",
       " 'disease.[15]\\n\\nCOVIDâ€‘19',\n",
       " 'transmits',\n",
       " 'when',\n",
       " 'people',\n",
       " 'breathe',\n",
       " 'air',\n",
       " 'contaminated',\n",
       " 'by',\n",
       " 'droplets',\n",
       " 'and',\n",
       " 'small',\n",
       " 'airborne',\n",
       " 'particles',\n",
       " 'containing',\n",
       " 'the',\n",
       " 'virus.',\n",
       " 'The',\n",
       " 'risk',\n",
       " 'of',\n",
       " 'breathing',\n",
       " 'these',\n",
       " 'is',\n",
       " 'highest',\n",
       " 'when',\n",
       " 'people',\n",
       " 'are',\n",
       " 'in',\n",
       " 'close',\n",
       " 'proximity,',\n",
       " 'but',\n",
       " 'they',\n",
       " 'can',\n",
       " 'be',\n",
       " 'inhaled',\n",
       " 'over',\n",
       " 'longer',\n",
       " 'distances,',\n",
       " 'particularly',\n",
       " 'indoors.',\n",
       " 'Transmission',\n",
       " 'can',\n",
       " 'also',\n",
       " 'occur',\n",
       " 'if',\n",
       " 'contaminated',\n",
       " 'fluids',\n",
       " 'are',\n",
       " 'splashed',\n",
       " 'or',\n",
       " 'sprayed',\n",
       " 'in',\n",
       " 'the',\n",
       " 'eyes,',\n",
       " 'nose,',\n",
       " 'or',\n",
       " 'mouth,',\n",
       " 'or,',\n",
       " 'more',\n",
       " 'rarely,',\n",
       " 'via',\n",
       " 'contaminated',\n",
       " 'surfaces.',\n",
       " 'People',\n",
       " 'remain',\n",
       " 'contagious',\n",
       " 'for',\n",
       " 'up',\n",
       " 'to',\n",
       " '20',\n",
       " 'days',\n",
       " 'and',\n",
       " 'can',\n",
       " 'spread',\n",
       " 'the',\n",
       " 'virus',\n",
       " 'even',\n",
       " 'if',\n",
       " 'they',\n",
       " 'do',\n",
       " 'not',\n",
       " 'develop',\n",
       " 'symptoms.[16][17]\\n\\nTesting',\n",
       " 'methods',\n",
       " 'for',\n",
       " 'COVID-19',\n",
       " 'to',\n",
       " 'detect',\n",
       " 'the',\n",
       " \"virus's\",\n",
       " 'nucleic',\n",
       " 'acid',\n",
       " 'include',\n",
       " 'real-time',\n",
       " 'reverse',\n",
       " 'transcription',\n",
       " 'polymerase',\n",
       " 'chain',\n",
       " 'reaction',\n",
       " '(rRTâ€‘PCR),[18][19]',\n",
       " 'transcription-mediated',\n",
       " 'amplification,[18][19][20]',\n",
       " 'and',\n",
       " 'reverse',\n",
       " 'transcription',\n",
       " 'loop-mediated',\n",
       " 'isothermal',\n",
       " 'amplification',\n",
       " '(RTâ€‘LAMP)[18][19]',\n",
       " 'from',\n",
       " 'a',\n",
       " 'nasopharyngeal',\n",
       " 'swab.[21]\\n\\nSeveral',\n",
       " 'COVID-19',\n",
       " 'vaccines',\n",
       " 'have',\n",
       " 'been',\n",
       " 'approved',\n",
       " 'and',\n",
       " 'distributed',\n",
       " 'in',\n",
       " 'various',\n",
       " 'countries,',\n",
       " 'which',\n",
       " 'have',\n",
       " 'initiated',\n",
       " 'mass',\n",
       " 'vaccination',\n",
       " 'campaigns.',\n",
       " 'Other',\n",
       " 'preventive',\n",
       " 'measures',\n",
       " 'include',\n",
       " 'physical',\n",
       " 'or',\n",
       " 'social',\n",
       " 'distancing,',\n",
       " 'quarantining,',\n",
       " 'ventilation',\n",
       " 'of',\n",
       " 'indoor',\n",
       " 'spaces,',\n",
       " 'use',\n",
       " 'of',\n",
       " 'face',\n",
       " 'masks',\n",
       " 'or',\n",
       " 'coverings',\n",
       " 'in',\n",
       " 'public,',\n",
       " 'covering',\n",
       " 'coughs',\n",
       " 'and',\n",
       " 'sneezes,',\n",
       " 'hand',\n",
       " 'washing,',\n",
       " 'and',\n",
       " 'keeping',\n",
       " 'unwashed',\n",
       " 'hands',\n",
       " 'away',\n",
       " 'from',\n",
       " 'the',\n",
       " 'face.',\n",
       " 'While',\n",
       " 'work',\n",
       " 'is',\n",
       " 'underway',\n",
       " 'to',\n",
       " 'develop',\n",
       " 'drugs',\n",
       " 'that',\n",
       " 'inhibit',\n",
       " 'the',\n",
       " 'virus,',\n",
       " 'the',\n",
       " 'primary',\n",
       " 'treatment',\n",
       " 'is',\n",
       " 'symptomatic.',\n",
       " 'Management',\n",
       " 'involves',\n",
       " 'the',\n",
       " 'treatment',\n",
       " 'of',\n",
       " 'symptoms',\n",
       " 'through',\n",
       " 'supportive',\n",
       " 'care,',\n",
       " 'isolation,',\n",
       " 'and',\n",
       " 'experimental',\n",
       " 'measures.\\n\\n']"
      ]
     },
     "execution_count": 19,
     "metadata": {},
     "output_type": "execute_result"
    }
   ],
   "source": [
    "word = txt.split(\" \") \n",
    "(word)                   # word"
   ]
  },
  {
   "cell_type": "code",
   "execution_count": 20,
   "id": "232fd92a",
   "metadata": {},
   "outputs": [
    {
     "data": {
      "text/plain": [
       "377"
      ]
     },
     "execution_count": 20,
     "metadata": {},
     "output_type": "execute_result"
    }
   ],
   "source": [
    "len(word)         # how many word are present "
   ]
  },
  {
   "cell_type": "code",
   "execution_count": 21,
   "id": "fdde79a4",
   "metadata": {},
   "outputs": [
    {
     "name": "stdout",
     "output_type": "stream",
     "text": [
      "\n",
      "\n",
      "* Coronavirus disease 2019 (COVID-19) is a contagious disease caused by a virus, the severe acute respiratory syndrome coronavirus 2 (SARS-CoV-2). The first known case was identified in Wuhan, China, in December 2019.[7] The disease quickly spread worldwide, resulting in the COVID-19 pandemic. *\n",
      "\n",
      "The symptoms of COVIDâ€‘19 are variable but often include fever,[8] cough, headache,[9] fatigue, breathing difficulties, loss of smell, and loss of taste.[10][11][12] Symptoms may begin one to fourteen days after exposure to the virus. At least a third of people who are infected do not develop noticeable symptoms.[13] Of those who develop symptoms noticeable enough to be classified as patients, most (81%) develop mild to moderate symptoms (up to mild pneumonia), while 14% develop severe symptoms (dyspnea, hypoxia, or more than 50% lung involvement on imaging), and 5% develop critical symptoms (respiratory failure, shock, or multiorgan dysfunction).[14] Older people are at a higher risk of developing severe symptoms. Some people continue to experience a range of effects (long COVID) for months after recovery, and damage to organs has been observed.[15] Multi-year studies are underway to further investigate the long-term effects of the disease.[15]\n",
      "\n",
      "COVIDâ€‘19 transmits when people breathe air contaminated by droplets and small airborne particles containing the virus. The risk of breathing these is highest when people are in close proximity, but they can be inhaled over longer distances, particularly indoors. Transmission can also occur if contaminated fluids are splashed or sprayed in the eyes, nose, or mouth, or, more rarely, via contaminated surfaces. People remain contagious for up to 20 days and can spread the virus even if they do not develop symptoms.[16][17]\n",
      "\n",
      "Testing methods for COVID-19 to detect the virus's nucleic acid include real-time reverse transcription polymerase chain reaction (rRTâ€‘PCR),[18][19] transcription-mediated amplification,[18][19][20] and reverse transcription loop-mediated isothermal amplification (RTâ€‘LAMP)[18][19] from a nasopharyngeal swab.[21]\n",
      "\n",
      "Several COVID-19 vaccines have been approved and distributed in various countries, which have initiated mass vaccination campaigns. Other preventive measures include physical or social distancing, quarantining, ventilation of indoor spaces, use of face masks or coverings in public, covering coughs and sneezes, hand washing, and keeping unwashed hands away from the face. While work is underway to develop drugs that inhibit the virus, the primary treatment is symptomatic. Management involves the treatment of symptoms through supportive care, isolation, and experimental measures.\n",
      "\n",
      "\n"
     ]
    }
   ],
   "source": [
    "print(txt)"
   ]
  },
  {
   "cell_type": "code",
   "execution_count": 22,
   "id": "79fcd53b",
   "metadata": {},
   "outputs": [
    {
     "name": "stdout",
     "output_type": "stream",
     "text": [
      "\n",
      "\n",
      "* Coronavirus disease 2019 (COVID-19) is a contagious disease caused by a virus, the severe acute respiratory syndrome coronavirus 2 (SARS-CoV-2). The first known case was identified in Wuhan, China, in December 2019.[7] The disease quickly spread worldwide, resulting in the COVID-19 pandemic. *\n",
      "\n",
      "The symptoms of COVIDâ€‘19 are variable but often include fever,[8] cough, headache,[9] fatigue, breathing difficulties, loss of smell, and loss of taste.[10][11][12] Symptoms may begin one to fourteen days after exposure to the virus. At least a third of people who are infected do not develop noticeable symptoms.[13] Of those who develop symptoms noticeable enough to be classified as patients, most (81%) develop mild to moderate symptoms (up to mild pneumonia), while 14% develop severe symptoms (dyspnea, hypoxia, or more than 50% lung involvement on imaging), and 5% develop critical symptoms (respiratory failure, shock, or multiorgan dysfunction).[14] Older people are at a higher risk of developing severe symptoms. Some people continue to experience a range of effects (long COVID) for months after recovery, and damage to organs has been observed.[15] Multi-year studies are underway to further investigate the long-term effects of the disease.[15]\n",
      "\n",
      "COVIDâ€‘19 transmits when people breathe air contaminated by droplets and small airborne particles containing the virus. The risk of breathing these is highest when people are in close proximity, but they can be inhaled over longer distances, particularly indoors. Transmission can also occur if contaminated fluids are splashed or sprayed in the eyes, nose, or mouth, or, more rarely, via contaminated surfaces. People remain contagious for up to 20 days and can spread the virus even if they do not develop symptoms.[16][17]\n",
      "\n",
      "Testing methods for COVID-19 to detect the virus's nucleic acid include real-time reverse transcription polymerase chain reaction (rRTâ€‘PCR),[18][19] transcription-mediated amplification,[18][19][20] and reverse transcription loop-mediated isothermal amplification (RTâ€‘LAMP)[18][19] from a nasopharyngeal swab.\n",
      "\n",
      "Several COVID-19 vaccines have been approved and distributed in various countries, which have initiated mass vaccination campaigns. Other preventive measures include physical or social distancing, quarantining, ventilation of indoor spaces, use of face masks or coverings in public, covering coughs and sneezes, hand washing, and keeping unwashed hands away from the face. While work is underway to develop drugs that inhibit the virus, the primary treatment is symptomatic. Management involves the treatment of symptoms through supportive care, isolation, and experimental measures.\n",
      "\n",
      "\n"
     ]
    }
   ],
   "source": [
    "for i in range (7,22):\n",
    "    pattern = (\"[\"+str(i)+\"]\")\n",
    "    txt_2 = (txt.replace(pattern,\"\"))\n",
    "print(txt_2)                                 # [7][8][9] this pattern are not required so removed"
   ]
  },
  {
   "cell_type": "code",
   "execution_count": 23,
   "id": "f3e7b120",
   "metadata": {},
   "outputs": [
    {
     "name": "stdout",
     "output_type": "stream",
     "text": [
      "\n",
      "\n",
      " Coronavirus disease 2019 (COVID-19) is a contagious disease caused by a virus, the severe acute respiratory syndrome coronavirus 2 (SARS-CoV-2). The first known case was identified in Wuhan, China, in December 2019.[7] The disease quickly spread worldwide, resulting in the COVID-19 pandemic. \n",
      "\n",
      "The symptoms of COVIDâ€‘19 are variable but often include fever,[8] cough, headache,[9] fatigue, breathing difficulties, loss of smell, and loss of taste.[10][11][12] Symptoms may begin one to fourteen days after exposure to the virus. At least a third of people who are infected do not develop noticeable symptoms.[13] Of those who develop symptoms noticeable enough to be classified as patients, most (81%) develop mild to moderate symptoms (up to mild pneumonia), while 14% develop severe symptoms (dyspnea, hypoxia, or more than 50% lung involvement on imaging), and 5% develop critical symptoms (respiratory failure, shock, or multiorgan dysfunction).[14] Older people are at a higher risk of developing severe symptoms. Some people continue to experience a range of effects (long COVID) for months after recovery, and damage to organs has been observed.[15] Multi-year studies are underway to further investigate the long-term effects of the disease.[15]\n",
      "\n",
      "COVIDâ€‘19 transmits when people breathe air contaminated by droplets and small airborne particles containing the virus. The risk of breathing these is highest when people are in close proximity, but they can be inhaled over longer distances, particularly indoors. Transmission can also occur if contaminated fluids are splashed or sprayed in the eyes, nose, or mouth, or, more rarely, via contaminated surfaces. People remain contagious for up to 20 days and can spread the virus even if they do not develop symptoms.[16][17]\n",
      "\n",
      "Testing methods for COVID-19 to detect the virus's nucleic acid include real-time reverse transcription polymerase chain reaction (rRTâ€‘PCR),[18][19] transcription-mediated amplification,[18][19][20] and reverse transcription loop-mediated isothermal amplification (RTâ€‘LAMP)[18][19] from a nasopharyngeal swab.[21]\n",
      "\n",
      "Several COVID-19 vaccines have been approved and distributed in various countries, which have initiated mass vaccination campaigns. Other preventive measures include physical or social distancing, quarantining, ventilation of indoor spaces, use of face masks or coverings in public, covering coughs and sneezes, hand washing, and keeping unwashed hands away from the face. While work is underway to develop drugs that inhibit the virus, the primary treatment is symptomatic. Management involves the treatment of symptoms through supportive care, isolation, and experimental measures.\n",
      "\n",
      "\n"
     ]
    }
   ],
   "source": [
    "for i in \"*\" :\n",
    "    txt_3 = txt.replace(i,\"\") # removed any type of special cheracter in text\n",
    "print(txt_3)"
   ]
  },
  {
   "cell_type": "markdown",
   "id": "4a58bede",
   "metadata": {},
   "source": [
    "# Write a Data"
   ]
  },
  {
   "cell_type": "code",
   "execution_count": 24,
   "id": "b2812c00",
   "metadata": {},
   "outputs": [],
   "source": [
    "fd = open(\"Data_1.txt\", \"w\")\n",
    "text = fd.write(\"Hello everybody! , Gourhari this side ...\")     # Override the text\n",
    "fd.close()                                                    "
   ]
  },
  {
   "cell_type": "code",
   "execution_count": 27,
   "id": "3737ae4c",
   "metadata": {},
   "outputs": [
    {
     "name": "stdout",
     "output_type": "stream",
     "text": [
      "this is spata\n"
     ]
    }
   ],
   "source": [
    "fd = open(\"Data_1.txt\", \"a\")   # Append mode\n",
    "text = input(\"Enter the text : \")\n",
    "text = text + \"\\n\"\n",
    "fd.write(text)\n",
    "\n",
    "fd.close()         "
   ]
  },
  {
   "attachments": {},
   "cell_type": "markdown",
   "id": "f0f43bca",
   "metadata": {},
   "source": [
    "# with "
   ]
  },
  {
   "cell_type": "code",
   "execution_count": 14,
   "id": "0dd58ddd",
   "metadata": {},
   "outputs": [
    {
     "name": "stdout",
     "output_type": "stream",
     "text": [
      "Hello everybody! , Gourhari this side ..\n"
     ]
    }
   ],
   "source": [
    "with open(\"Data_1.txt\",\"r\") as f:\n",
    "    print(f.read(40))\n",
    "\n"
   ]
  },
  {
   "cell_type": "code",
   "execution_count": null,
   "id": "c07c7a3c",
   "metadata": {},
   "outputs": [],
   "source": []
  }
 ],
 "metadata": {
  "kernelspec": {
   "display_name": "Python 3 (ipykernel)",
   "language": "python",
   "name": "python3"
  },
  "language_info": {
   "codemirror_mode": {
    "name": "ipython",
    "version": 3
   },
   "file_extension": ".py",
   "mimetype": "text/x-python",
   "name": "python",
   "nbconvert_exporter": "python",
   "pygments_lexer": "ipython3",
   "version": "3.11.1"
  },
  "widgets": {
   "application/vnd.jupyter.widget-state+json": {
    "state": {},
    "version_major": 2,
    "version_minor": 0
   }
  }
 },
 "nbformat": 4,
 "nbformat_minor": 5
}
