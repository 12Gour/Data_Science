{
 "cells": [
  {
   "attachments": {},
   "cell_type": "markdown",
   "metadata": {},
   "source": [
    "# Exception handling"
   ]
  },
  {
   "attachments": {},
   "cell_type": "markdown",
   "metadata": {},
   "source": [
    "###  Explain why we have to use the Exception class while creating a Custom Exception.\n",
    "\n",
    "Note: Here Exception class refers to the base class for all the exceptions"
   ]
  },
  {
   "attachments": {},
   "cell_type": "markdown",
   "metadata": {},
   "source": [
    "--> In Python, custom exceptions are typically created by defining a new class that inherits from the built-in Exception class. The Exception class is the base class for all built-in exceptions in Python, and it provides a standard interface and behavior for handling exceptions.\n",
    "\n",
    "When we define a new exception class that inherits from Exception, our custom exception class will have access to all of the methods and attributes of the Exception class. This includes the ability to define a custom error message using the __init__ method, as well as the ability to include a traceback using the traceback module.\n",
    "\n",
    "In summary, using the Exception class as the base class for our custom exception ensures that our exception will behave consistently with other built-in exception types, and it allows us to define custom error messages and include tracebacks when necessary."
   ]
  },
  {
   "cell_type": "code",
   "execution_count": 6,
   "metadata": {},
   "outputs": [
    {
     "name": "stdout",
     "output_type": "stream",
     "text": [
      "Caught exception: Something went wrong\n"
     ]
    }
   ],
   "source": [
    "class MyException(Exception):\n",
    "    pass\n",
    "\n",
    "try:\n",
    "    # x = 10/0\n",
    "    raise MyException(\"Something went wrong\")\n",
    "except Exception as e:\n",
    "    print(\"Caught exception:\", e)\n"
   ]
  },
  {
   "attachments": {},
   "cell_type": "markdown",
   "metadata": {},
   "source": [
    "### Write a python program to print Python Exception Hierarchy."
   ]
  },
  {
   "cell_type": "code",
   "execution_count": 12,
   "metadata": {},
   "outputs": [
    {
     "name": "stdout",
     "output_type": "stream",
     "text": [
      "ArithmeticError\n",
      "AssertionError\n",
      "AttributeError\n",
      "BaseException\n",
      "BaseExceptionGroup\n"
     ]
    },
    {
     "name": "stderr",
     "output_type": "stream",
     "text": [
      "ArithmeticError\n",
      "AssertionError\n",
      "AttributeError\n",
      "BaseException\n"
     ]
    },
    {
     "ename": "TypeError",
     "evalue": "BaseExceptionGroup.__new__() takes exactly 2 arguments (0 given)",
     "output_type": "error",
     "traceback": [
      "\u001b[1;31m---------------------------------------------------------------------------\u001b[0m",
      "\u001b[1;31mTypeError\u001b[0m                                 Traceback (most recent call last)",
      "Cell \u001b[1;32mIn[12], line 14\u001b[0m\n\u001b[0;32m     11\u001b[0m         traceback\u001b[39m.\u001b[39mprint_exception(\u001b[39mgetattr\u001b[39m(__builtins__, \u001b[39mcls\u001b[39m), \u001b[39mgetattr\u001b[39m(__builtins__, \u001b[39mcls\u001b[39m)(), \u001b[39mNone\u001b[39;00m)\n\u001b[0;32m     13\u001b[0m \u001b[39m# Call the function to print the exception hierarchy\u001b[39;00m\n\u001b[1;32m---> 14\u001b[0m print_exception_hierarchy()\n",
      "Cell \u001b[1;32mIn[12], line 11\u001b[0m, in \u001b[0;36mprint_exception_hierarchy\u001b[1;34m()\u001b[0m\n\u001b[0;32m      9\u001b[0m \u001b[39mfor\u001b[39;00m \u001b[39mcls\u001b[39m \u001b[39min\u001b[39;00m exception_classes:\n\u001b[0;32m     10\u001b[0m     \u001b[39mprint\u001b[39m(\u001b[39mcls\u001b[39m)\n\u001b[1;32m---> 11\u001b[0m     traceback\u001b[39m.\u001b[39mprint_exception(\u001b[39mgetattr\u001b[39m(__builtins__, \u001b[39mcls\u001b[39m), \u001b[39mgetattr\u001b[39;49m(__builtins__, \u001b[39mcls\u001b[39;49m)(), \u001b[39mNone\u001b[39;00m)\n",
      "\u001b[1;31mTypeError\u001b[0m: BaseExceptionGroup.__new__() takes exactly 2 arguments (0 given)"
     ]
    }
   ],
   "source": [
    "import traceback\n",
    "\n",
    "# Define a function to print the exception hierarchy\n",
    "def print_exception_hierarchy():\n",
    "    # Get a list of all the built-in exception classes\n",
    "    exception_classes = sorted([cls for cls in dir(__builtins__) if isinstance(getattr(__builtins__, cls), type) and issubclass(getattr(__builtins__, cls), BaseException)])\n",
    "    \n",
    "    # Loop through the list of exception classes and print them\n",
    "    for cls in exception_classes:\n",
    "        print(cls)\n",
    "        traceback.print_exception(getattr(__builtins__, cls), getattr(__builtins__, cls)(), None)\n",
    "\n",
    "# Call the function to print the exception hierarchy\n",
    "print_exception_hierarchy()\n"
   ]
  },
  {
   "attachments": {},
   "cell_type": "markdown",
   "metadata": {},
   "source": [
    "### What errors are defined in the ArithmeticError class? Explain any two with an example.\n",
    "\n",
    "\n",
    "--> In Python, the ArithmeticError class is a built-in class that represents errors that occur during arithmetic operations. It is a subclass of the Exception class, which means it inherits all its properties and methods. Some of the common errors that are defined in the ArithmeticError class include:\n",
    "\n",
    "    1.ZeroDivisionError --> This error occurs when a number is divided by zero.\n",
    "\n",
    "    2.OverflowError --> This error occurs when a mathematical operation produces a result that is too large to be represented.\n",
    "\n",
    "    3.FloatingPointError --> This error occurs when a floating-point operation fails to produce a valid result.\n",
    "    \n",
    "    4.ValueError --> This error occurs when an argument is of the correct type but has an invalid value.\n",
    "    \n",
    "    5.ZeroPowerError --> This error occurs when zero is raised to a negative power.\n",
    "    \n",
    "    6.NegativePowerError --> This error occurs when a negative number is raised to a non-integer power."
   ]
  },
  {
   "cell_type": "code",
   "execution_count": 15,
   "metadata": {},
   "outputs": [
    {
     "name": "stdout",
     "output_type": "stream",
     "text": [
      "An arithmetic error occurred: division by zero\n"
     ]
    }
   ],
   "source": [
    "try:\n",
    "    a = 10\n",
    "    b = 0\n",
    "    c = a / b\n",
    "except ArithmeticError as e:\n",
    "    print(\"An arithmetic error occurred:\", e)\n"
   ]
  },
  {
   "cell_type": "code",
   "execution_count": 14,
   "metadata": {},
   "outputs": [
    {
     "name": "stdout",
     "output_type": "stream",
     "text": [
      "An error occurred: math domain error\n"
     ]
    }
   ],
   "source": [
    "import math\n",
    "\n",
    "x = -1.0\n",
    "try:\n",
    "    result = math.sqrt(x)\n",
    "except ValueError as e:\n",
    "    print(\"An error occurred:\", e)\n"
   ]
  },
  {
   "attachments": {},
   "cell_type": "markdown",
   "metadata": {},
   "source": [
    "### Why LookupError class is used? Explain with an example KeyError and IndexError\n",
    "\n",
    "--> LookupError is a base class in Python's exception hierarchy that represents errors that occur when a key or index used to access a sequence or mapping is invalid. It has several subclasses that represent more specific lookup errors, such as KeyError and IndexError.\n",
    "\n",
    "KeyError is raised when trying to access a dictionary key that doesn't exist, while IndexError is raised when trying to access a list or tuple index that is out of range. Here's an example that demonstrates both of these exceptions:"
   ]
  },
  {
   "cell_type": "code",
   "execution_count": 16,
   "metadata": {},
   "outputs": [
    {
     "name": "stdout",
     "output_type": "stream",
     "text": [
      "KeyError occurred: 'grape'\n",
      "IndexError occurred: list index out of range\n"
     ]
    }
   ],
   "source": [
    "# Dictionary example with KeyError\n",
    "my_dict = {'apple': 1, 'banana': 2, 'orange': 3}\n",
    "try:\n",
    "    value = my_dict['grape']\n",
    "except KeyError as e:\n",
    "    print(\"KeyError occurred:\", e)\n",
    "\n",
    "# List example with IndexError\n",
    "my_list = [1, 2, 3, 4, 5]\n",
    "try:\n",
    "    item = my_list[10]\n",
    "except IndexError as e:\n",
    "    print(\"IndexError occurred:\", e)\n"
   ]
  },
  {
   "attachments": {},
   "cell_type": "markdown",
   "metadata": {},
   "source": [
    "###  Explain ImportError. What is ModuleNotFoundError?"
   ]
  },
  {
   "cell_type": "code",
   "execution_count": 17,
   "metadata": {},
   "outputs": [
    {
     "name": "stdout",
     "output_type": "stream",
     "text": [
      "ImportError occurred: No module named 'non_existent_module'\n",
      "ModuleNotFoundError occurred: No module named 'non_existent_module_2'\n"
     ]
    }
   ],
   "source": [
    "try:\n",
    "    import non_existent_module\n",
    "except ImportError as e:\n",
    "    print(\"ImportError occurred:\", e)\n",
    "\n",
    "try:\n",
    "    import non_existent_module_2\n",
    "except ModuleNotFoundError as e:\n",
    "    print(\"ModuleNotFoundError occurred:\", e)\n"
   ]
  },
  {
   "cell_type": "markdown",
   "metadata": {},
   "source": []
  }
 ],
 "metadata": {
  "kernelspec": {
   "display_name": "Python 3",
   "language": "python",
   "name": "python3"
  },
  "language_info": {
   "codemirror_mode": {
    "name": "ipython",
    "version": 3
   },
   "file_extension": ".py",
   "mimetype": "text/x-python",
   "name": "python",
   "nbconvert_exporter": "python",
   "pygments_lexer": "ipython3",
   "version": "3.11.3"
  },
  "orig_nbformat": 4
 },
 "nbformat": 4,
 "nbformat_minor": 2
}
