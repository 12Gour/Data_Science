{
 "cells": [
  {
   "attachments": {},
   "cell_type": "markdown",
   "metadata": {},
   "source": [
    "# Exception handling"
   ]
  },
  {
   "attachments": {},
   "cell_type": "markdown",
   "metadata": {},
   "source": [
    "### what is exception handling and difference between exception handling and syntax error ...\n",
    "\n",
    "-->  In Python, an exception is an error that occurs during the execution of a program. When an exception occurs, the program stops executing and raises an exception object, which contains information about the error that occurred.\n",
    "\n",
    "Python provides a wide range of built-in exception types for handling common errors, such as TypeError, ValueError, and IndexError. For example..."
   ]
  },
  {
   "cell_type": "code",
   "execution_count": null,
   "metadata": {},
   "outputs": [],
   "source": [
    "a = 10\n",
    "b = 0\n",
    "c = a/b # raises ZeroDivisionError"
   ]
  },
  {
   "cell_type": "code",
   "execution_count": null,
   "metadata": {},
   "outputs": [],
   "source": [
    "a = 10\n",
    "b = 0\n",
    "c = a/b # raises ZeroDivisionError"
   ]
  },
  {
   "cell_type": "code",
   "execution_count": null,
   "metadata": {},
   "outputs": [],
   "source": [
    "a = \"hello\"\n",
    "b = 5\n",
    "c = a + b # raises TypeError"
   ]
  },
  {
   "cell_type": "code",
   "execution_count": null,
   "metadata": {},
   "outputs": [],
   "source": [
    "a = [1, 2, 3]\n",
    "b = a.index(4) # raises ValueError"
   ]
  },
  {
   "cell_type": "code",
   "execution_count": null,
   "metadata": {},
   "outputs": [],
   "source": [
    "with open(\"nonexistent_file.txt\", \"r\") as f:\n",
    "    data = f.read() # raises FileNotFoundError"
   ]
  },
  {
   "cell_type": "code",
   "execution_count": null,
   "metadata": {},
   "outputs": [],
   "source": [
    "my_dict = {\"a\": 1, \"b\": 2, \"c\": 3}\n",
    "value = my_dict[\"d\"] # raises KeyError"
   ]
  },
  {
   "attachments": {},
   "cell_type": "markdown",
   "metadata": {},
   "source": [
    "### what is the difference between syntax error and exception error?\n",
    "\n",
    "\n",
    "-->  Exceptions and syntax errors are both types of errors that can occur during the execution of a program, but they have some key differences.\n",
    "\n",
    "Syntax errors: Syntax errors are caused by invalid code syntax, such as a missing colon, a missing parenthesis, or a misspelled keyword. Syntax errors prevent the program from executing at all, and they are detected by the Python interpreter during the parsing of the code before the program is executed. Syntax errors must be fixed before the program can be run.\n",
    "\n",
    "Exceptions: Exceptions are caused by runtime errors, such as attempting to divide by zero, accessing an index that is out of range, or trying to convert a string to a number that cannot be converted. Exceptions occur during the execution of the program, and they are detected by the Python interpreter when they are raised by the code. Exceptions can be caught and handled by the program using try-except blocks or other error handling techniques.\n",
    "\n",
    "In summary, syntax errors are caused by invalid code syntax and prevent the program from executing at all, while exceptions are caused by runtime errors and can be caught and handled by the program.\n"
   ]
  },
  {
   "cell_type": "code",
   "execution_count": 1,
   "metadata": {},
   "outputs": [
    {
     "ename": "SyntaxError",
     "evalue": "expected ':' (1292801870.py, line 2)",
     "output_type": "error",
     "traceback": [
      "\u001b[1;36m  Cell \u001b[1;32mIn[1], line 2\u001b[1;36m\u001b[0m\n\u001b[1;33m    if x == 5\u001b[0m\n\u001b[1;37m             ^\u001b[0m\n\u001b[1;31mSyntaxError\u001b[0m\u001b[1;31m:\u001b[0m expected ':'\n"
     ]
    }
   ],
   "source": [
    "# Syntax error - missing colon after if statement\n",
    "if x == 5\n",
    "    print(\"x is equal to 5\")\n",
    "\n",
    "# Exception - division by zero\n",
    "a = 5\n",
    "b = 0\n",
    "c = a / b"
   ]
  },
  {
   "attachments": {},
   "cell_type": "markdown",
   "metadata": {},
   "source": [
    "###  What happens when an exception is not handled? explain with an example\n",
    "\n",
    "--> When an exception is not handled in Python, the program will terminate and an error message will be displayed in the console, which includes a traceback showing the location and nature of the error. \n",
    "\n",
    "Here's an example:"
   ]
  },
  {
   "cell_type": "code",
   "execution_count": 5,
   "metadata": {},
   "outputs": [
    {
     "ename": "NameError",
     "evalue": "name 'x' is not defined",
     "output_type": "error",
     "traceback": [
      "\u001b[1;31m---------------------------------------------------------------------------\u001b[0m",
      "\u001b[1;31mNameError\u001b[0m                                 Traceback (most recent call last)",
      "Cell \u001b[1;32mIn[5], line 2\u001b[0m\n\u001b[0;32m      1\u001b[0m \u001b[39m# This code raises a NameError because the variable 'x' is not defined\u001b[39;00m\n\u001b[1;32m----> 2\u001b[0m y \u001b[39m=\u001b[39m \u001b[39m10\u001b[39m \u001b[39m/\u001b[39m x\n",
      "\u001b[1;31mNameError\u001b[0m: name 'x' is not defined"
     ]
    }
   ],
   "source": [
    "# This code raises a NameError because the variable 'x' is not defined\n",
    "y = 10 / x"
   ]
  },
  {
   "attachments": {},
   "cell_type": "markdown",
   "metadata": {},
   "source": [
    "### Which python statementare used to handle the error? explain with an example"
   ]
  },
  {
   "cell_type": "code",
   "execution_count": 9,
   "metadata": {},
   "outputs": [
    {
     "name": "stdout",
     "output_type": "stream",
     "text": [
      "name 'x' is not defined\n"
     ]
    }
   ],
   "source": [
    "try:\n",
    "    # x is not defined, so this line will raise a NameError\n",
    "    y = 10 / x\n",
    "except Exception as e:\n",
    "    # Handle the NameError by printing a custom error message\n",
    "    print(e)\n",
    "else:\n",
    "    pass\n",
    "\n"
   ]
  },
  {
   "attachments": {},
   "cell_type": "markdown",
   "metadata": {},
   "source": [
    "###  Explain with an example :\n",
    "         a.try else block\n",
    "         b.finally \n",
    "         c.raises"
   ]
  },
  {
   "cell_type": "code",
   "execution_count": null,
   "metadata": {},
   "outputs": [],
   "source": [
    "# Ask the user to enter a number\n",
    "try:\n",
    "    x = int(input(\"Enter a number: \"))\n",
    "    \n",
    "    # Divide 10 by x and store the result in y\n",
    "    y = 10 / x\n",
    "    \n",
    "# If x is zero, catch the ZeroDivisionError exception\n",
    "except ZeroDivisionError:\n",
    "    # Print an error message\n",
    "    print(\"Error: Division by zero\")\n",
    "    \n",
    "# If no exception is raised, execute the else block\n",
    "else:\n",
    "    # Print the result\n",
    "    print(\"Result is:\", y)\n",
    "    \n",
    "# Execute the finally block regardless of whether an exception is raised or not\n",
    "finally:\n",
    "    # Print a message indicating that the execution is complete\n",
    "    print(\"Execution complete\")"
   ]
  },
  {
   "attachments": {},
   "cell_type": "markdown",
   "metadata": {},
   "source": [
    "### What are Custom Exceptions in Python? Why do we need Custom Exceptions? Explain with an example.\n",
    "\n",
    "--->  In Python, custom exceptions are user-defined exceptions that inherit from the built-in Exception class or one of its subclasses. Custom exceptions can be used to handle specific error cases in a program..\n",
    "\n",
    "We need custom exceptions because they allow us to provide more specific information about an error and handle it in a more targeted way. like an example ... "
   ]
  },
  {
   "cell_type": "code",
   "execution_count": null,
   "metadata": {},
   "outputs": [],
   "source": [
    "class NegativeNumberError(Exception):\n",
    "    pass\n",
    "\n",
    "def square_root(number):\n",
    "    if number < 0:\n",
    "        raise NegativeNumberError(\"Cannot take the square root of a negative number\")\n",
    "    return number ** 0.5\n",
    "\n",
    "try:\n",
    "    result = square_root(-4)\n",
    "except NegativeNumberError as e:\n",
    "    print(e)\n"
   ]
  },
  {
   "attachments": {},
   "cell_type": "markdown",
   "metadata": {},
   "source": [
    "### Create a custom exception class. Use this class to handle an exception in Python."
   ]
  },
  {
   "cell_type": "code",
   "execution_count": 4,
   "metadata": {},
   "outputs": [
    {
     "name": "stdout",
     "output_type": "stream",
     "text": [
      "age is valid\n",
      "Age is 10\n"
     ]
    }
   ],
   "source": [
    "# Create a custom exception class   \n",
    "class validateage(Exception) : # inherit from Exception class\n",
    "    def __init__(self, msg) :\n",
    "        self.msg = msg\n",
    "\n",
    "def validate_age(age) : \n",
    "    if age < 0 : \n",
    "        # raise an exception\n",
    "        raise validateage(\"age should not be lesser then zeor \" )\n",
    "    elif age > 200 : \n",
    "        # raise an exception\n",
    "        raise validateage(\"age is too high \" )\n",
    "        \n",
    "    else :\n",
    "        print(\"age is valid\" )\n",
    "\n",
    "try : \n",
    "    age = int(input(\"enter your age\"))\n",
    "    validate_age(age)\n",
    "except validateage as e : \n",
    "    print(e)\n",
    "\n",
    "finally :\n",
    "    print(f\"Age is {age}\")"
   ]
  },
  {
   "cell_type": "code",
   "execution_count": null,
   "metadata": {},
   "outputs": [],
   "source": []
  }
 ],
 "metadata": {
  "kernelspec": {
   "display_name": "Python 3",
   "language": "python",
   "name": "python3"
  },
  "language_info": {
   "codemirror_mode": {
    "name": "ipython",
    "version": 3
   },
   "file_extension": ".py",
   "mimetype": "text/x-python",
   "name": "python",
   "nbconvert_exporter": "python",
   "pygments_lexer": "ipython3",
   "version": "3.11.3"
  },
  "orig_nbformat": 4
 },
 "nbformat": 4,
 "nbformat_minor": 2
}
