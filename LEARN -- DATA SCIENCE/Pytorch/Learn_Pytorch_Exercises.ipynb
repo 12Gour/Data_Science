{
 "cells": [
  {
   "cell_type": "markdown",
   "id": "7f108498-bbc3-4db5-b9bb-12cd312202b1",
   "metadata": {},
   "source": [
    "# Create a random tensor with shape (7, 7)"
   ]
  },
  {
   "cell_type": "code",
   "execution_count": 2,
   "id": "c59a3754-fa7d-4707-9fe7-fa650aa8fad0",
   "metadata": {},
   "outputs": [],
   "source": [
    "import torch \n",
    "import numpy as np"
   ]
  },
  {
   "cell_type": "code",
   "execution_count": 3,
   "id": "2f650c68-3d10-480d-9773-ee0544823481",
   "metadata": {},
   "outputs": [],
   "source": [
    "# Creat Random Tensor ...\n",
    "tensor_1 = torch.rand(size =(7,7))"
   ]
  },
  {
   "cell_type": "code",
   "execution_count": 4,
   "id": "c8c7ea16-ae8f-4b18-a5df-c51d3450e6db",
   "metadata": {},
   "outputs": [
    {
     "data": {
      "text/plain": [
       "tensor([[0.2094, 0.3104, 0.5641, 0.0035, 0.7899, 0.9238, 0.4499],\n",
       "        [0.1014, 0.0332, 0.2723, 0.5794, 0.4612, 0.3347, 0.2384],\n",
       "        [0.7951, 0.8973, 0.2967, 0.7956, 0.3804, 0.6375, 0.1313],\n",
       "        [0.7511, 0.4475, 0.6812, 0.6114, 0.8292, 0.9834, 0.5887],\n",
       "        [0.8787, 0.5494, 0.8694, 0.7180, 0.6637, 0.4444, 0.7543],\n",
       "        [0.1137, 0.3403, 0.1631, 0.8226, 0.1657, 0.2171, 0.2418],\n",
       "        [0.1878, 0.8170, 0.9274, 0.8557, 0.7375, 0.5730, 0.2549]])"
      ]
     },
     "execution_count": 4,
     "metadata": {},
     "output_type": "execute_result"
    }
   ],
   "source": [
    "tensor_1"
   ]
  },
  {
   "cell_type": "code",
   "execution_count": 10,
   "id": "6252975d-8342-43c9-a041-6772f30cbadf",
   "metadata": {},
   "outputs": [
    {
     "data": {
      "text/plain": [
       "tensor([[2.0936, 3.1042, 5.6405, 0.0346, 7.8990, 9.2376, 4.4989],\n",
       "        [1.0144, 0.3321, 2.7231, 5.7940, 4.6118, 3.3474, 2.3837],\n",
       "        [7.9505, 8.9726, 2.9674, 7.9556, 3.8042, 6.3749, 1.3128],\n",
       "        [7.5108, 4.4748, 6.8118, 6.1142, 8.2924, 9.8344, 5.8872],\n",
       "        [8.7873, 5.4939, 8.6936, 7.1804, 6.6368, 4.4438, 7.5434],\n",
       "        [1.1373, 3.4029, 1.6308, 8.2261, 1.6565, 2.1705, 2.4184],\n",
       "        [1.8781, 8.1702, 9.2738, 8.5566, 7.3751, 5.7297, 2.5494]])"
      ]
     },
     "execution_count": 10,
     "metadata": {},
     "output_type": "execute_result"
    }
   ],
   "source": [
    "tensor_2 = tensor_1 * 10  # Addition\n",
    "tensor_2"
   ]
  },
  {
   "cell_type": "markdown",
   "id": "00334f7d-782c-417e-b8e2-3c5c5040a47c",
   "metadata": {},
   "source": [
    "### Perform a matrix multiplication on the tensor_1 with another random tensor with shape (1, 7) (hint: you may have to transpose the second tensor)."
   ]
  },
  {
   "cell_type": "code",
   "execution_count": 11,
   "id": "aa43411c-1999-45a4-93e0-c3fb6be71b9f",
   "metadata": {},
   "outputs": [
    {
     "data": {
      "text/plain": [
       "tensor([[1.3159, 1.4174, 1.8063, 1.4095, 2.0082, 2.1706, 1.3095]])"
      ]
     },
     "execution_count": 11,
     "metadata": {},
     "output_type": "execute_result"
    }
   ],
   "source": [
    "tensor_3 = torch.rand(size=(1,7))\n",
    "tensor_3 @ tensor_1"
   ]
  },
  {
   "cell_type": "code",
   "execution_count": 12,
   "id": "324ef238-907c-48d6-9556-d5251f0024d1",
   "metadata": {},
   "outputs": [
    {
     "data": {
      "text/plain": [
       "tensor([[1.0423],\n",
       "        [0.8937],\n",
       "        [1.7656],\n",
       "        [2.1011],\n",
       "        [2.2159],\n",
       "        [0.9167],\n",
       "        [1.5062]])"
      ]
     },
     "execution_count": 12,
     "metadata": {},
     "output_type": "execute_result"
    }
   ],
   "source": [
    "tensor_1 @ tensor_3.T"
   ]
  },
  {
   "cell_type": "code",
   "execution_count": 13,
   "id": "cbd12d4c-32f7-4c0b-bc88-64a7b65e8726",
   "metadata": {},
   "outputs": [
    {
     "data": {
      "text/plain": [
       "tensor([[1.3159, 1.4174, 1.8063, 1.4095, 2.0082, 2.1706, 1.3095]])"
      ]
     },
     "execution_count": 13,
     "metadata": {},
     "output_type": "execute_result"
    }
   ],
   "source": [
    "torch.matmul(tensor_3,tensor_1)"
   ]
  },
  {
   "cell_type": "markdown",
   "id": "5fecdf16-f233-46b5-9d6c-b66a481ceea6",
   "metadata": {},
   "source": [
    "###  Set the random seed to 0 and do 2 & 3 over again."
   ]
  },
  {
   "cell_type": "code",
   "execution_count": 47,
   "id": "0b49eabd-c84d-4a0e-b3d8-4d0236e7111f",
   "metadata": {},
   "outputs": [
    {
     "name": "stdout",
     "output_type": "stream",
     "text": [
      "tensor_A :\n",
      "  tensor([[0.4963, 0.7682, 0.0885, 0.1320, 0.3074, 0.6341, 0.4901],\n",
      "        [0.8964, 0.4556, 0.6323, 0.3489, 0.4017, 0.0223, 0.1689],\n",
      "        [0.2939, 0.5185, 0.6977, 0.8000, 0.1610, 0.2823, 0.6816],\n",
      "        [0.9152, 0.3971, 0.8742, 0.4194, 0.5529, 0.9527, 0.0362],\n",
      "        [0.1852, 0.3734, 0.3051, 0.9320, 0.1759, 0.2698, 0.1507],\n",
      "        [0.0317, 0.2081, 0.9298, 0.7231, 0.7423, 0.5263, 0.2437],\n",
      "        [0.5846, 0.0332, 0.1387, 0.2422, 0.8155, 0.7932, 0.2783]])\n",
      "tensor_B :\n",
      "  tensor([[0.4963],\n",
      "        [0.7682],\n",
      "        [0.0885],\n",
      "        [0.1320],\n",
      "        [0.3074],\n",
      "        [0.6341],\n",
      "        [0.4901]])\n",
      "Output : \n",
      "  tensor([[1.5985],\n",
      "        [1.1173],\n",
      "        [1.2741],\n",
      "        [1.6838],\n",
      "        [0.8279],\n",
      "        [1.0347],\n",
      "        [1.2498]]) torch.Size([7, 1])\n"
     ]
    }
   ],
   "source": [
    "import torch\n",
    "\n",
    "# Set manual seed\n",
    "random = 0\n",
    "# Create two random tensors\n",
    "torch.manual_seed(random)\n",
    "tensor_A = torch.rand(size = (7,7))\n",
    "print(\"tensor_A :\\n \" , tensor_A)\n",
    "\n",
    "torch.manual_seed(random)\n",
    "tensor_B = torch.rand(size=(7,1))\n",
    "print(\"tensor_B :\\n \" , tensor_B)\n",
    "\n",
    "# Matrix multiply tensors\n",
    "output =  tensor_A @ tensor_B\n",
    "print(\"Output : \\n \", output, output.shape)"
   ]
  },
  {
   "cell_type": "markdown",
   "id": "c58f496a-54cb-4bda-a069-b328c0d34667",
   "metadata": {},
   "source": [
    "### find max, min, argmax, argmin"
   ]
  },
  {
   "cell_type": "code",
   "execution_count": 49,
   "id": "056b3d5d-2b13-4a46-86af-eb5cf587260f",
   "metadata": {},
   "outputs": [
    {
     "data": {
      "text/plain": [
       "tensor(1.6838)"
      ]
     },
     "execution_count": 49,
     "metadata": {},
     "output_type": "execute_result"
    }
   ],
   "source": [
    "torch.max(output)"
   ]
  },
  {
   "cell_type": "code",
   "execution_count": 50,
   "id": "2e53e164-4353-4c63-a023-ba1779e528b3",
   "metadata": {},
   "outputs": [
    {
     "data": {
      "text/plain": [
       "tensor(0.8279)"
      ]
     },
     "execution_count": 50,
     "metadata": {},
     "output_type": "execute_result"
    }
   ],
   "source": [
    "torch.min(output)"
   ]
  },
  {
   "cell_type": "code",
   "execution_count": 51,
   "id": "faa2b343-8983-40a1-8175-1d51ffe3cb7e",
   "metadata": {},
   "outputs": [
    {
     "data": {
      "text/plain": [
       "tensor(4)"
      ]
     },
     "execution_count": 51,
     "metadata": {},
     "output_type": "execute_result"
    }
   ],
   "source": [
    "torch.argmin(output)"
   ]
  },
  {
   "cell_type": "code",
   "execution_count": 52,
   "id": "aa4bd4e9-8ece-4853-b87c-86880db9cd37",
   "metadata": {},
   "outputs": [
    {
     "data": {
      "text/plain": [
       "tensor(3)"
      ]
     },
     "execution_count": 52,
     "metadata": {},
     "output_type": "execute_result"
    }
   ],
   "source": [
    "torch.argmax(output)"
   ]
  },
  {
   "cell_type": "markdown",
   "id": "ee877229-8943-4f35-80ed-2e9fe69986fc",
   "metadata": {},
   "source": [
    "### Make a random tensor with shape (1, 1, 1, 10) and then create a new tensor with all the 1 dimensions removed to be left with a tensor of shape (10). Set the seed to 7 when you create it and print out the first tensor and it's shape as well as the second tensor and it's shape."
   ]
  },
  {
   "cell_type": "code",
   "execution_count": 65,
   "id": "167a11b1-643f-4aa2-b9e9-cfa541776cc4",
   "metadata": {},
   "outputs": [
    {
     "name": "stdout",
     "output_type": "stream",
     "text": [
      "tensor_C :  tensor([[[[0.5349, 0.1988, 0.6592, 0.6569, 0.2328, 0.4251, 0.2071, 0.6297,\n",
      "           0.3653, 0.8513]]]])\n",
      "tensor_D :  tensor([0.5349, 0.1988, 0.6592, 0.6569, 0.2328, 0.4251, 0.2071, 0.6297, 0.3653,\n",
      "        0.8513])\n"
     ]
    }
   ],
   "source": [
    "# Set seed\n",
    "random =  7\n",
    "\n",
    "# Create random tensor\n",
    "torch.manual_seed(random)\n",
    "tensor_C = torch.rand(size  = (1,1,1,10))\n",
    "\n",
    "# Remove single dimensions\n",
    "tensor_D = tensor_C.squeeze()\n",
    "\n",
    "# Print out tensors and their shapes\n",
    "print(\"tensor_C : \" , tensor_C)\n",
    "print(\"tensor_D : \" , tensor_D)"
   ]
  },
  {
   "cell_type": "markdown",
   "id": "98930df1-7140-4886-ab72-c420c9b5883a",
   "metadata": {},
   "source": [
    "## Create a straight line dataset using the linear regression formula (weight * X + bias)."
   ]
  },
  {
   "cell_type": "code",
   "execution_count": null,
   "id": "32118ed9-7931-42dd-ae52-8789501bbc76",
   "metadata": {},
   "outputs": [],
   "source": []
  }
 ],
 "metadata": {
  "kernelspec": {
   "display_name": "Python 3 (ipykernel)",
   "language": "python",
   "name": "python3"
  },
  "language_info": {
   "codemirror_mode": {
    "name": "ipython",
    "version": 3
   },
   "file_extension": ".py",
   "mimetype": "text/x-python",
   "name": "python",
   "nbconvert_exporter": "python",
   "pygments_lexer": "ipython3",
   "version": "3.9.13"
  },
  "widgets": {
   "application/vnd.jupyter.widget-state+json": {
    "state": {},
    "version_major": 2,
    "version_minor": 0
   }
  }
 },
 "nbformat": 4,
 "nbformat_minor": 5
}
